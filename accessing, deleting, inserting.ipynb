{
 "cells": [
  {
   "cell_type": "code",
   "execution_count": 1,
   "metadata": {},
   "outputs": [],
   "source": [
    "import numpy as np"
   ]
  },
  {
   "cell_type": "code",
   "execution_count": 3,
   "metadata": {},
   "outputs": [
    {
     "name": "stdout",
     "output_type": "stream",
     "text": [
      "[1 2 3 4 5]\n"
     ]
    }
   ],
   "source": [
    "x = np.array([1,2,3,4,5])\n",
    "print(x)"
   ]
  },
  {
   "cell_type": "code",
   "execution_count": 8,
   "metadata": {},
   "outputs": [
    {
     "name": "stdout",
     "output_type": "stream",
     "text": [
      "1st element: 4\n",
      "1st element: 3\n",
      "1st element: 5\n"
     ]
    }
   ],
   "source": [
    "print('1st element:', x[3])\n",
    "print('1st element:', x[-3])\n",
    "print('1st element:', x[-1])"
   ]
  },
  {
   "cell_type": "code",
   "execution_count": 9,
   "metadata": {},
   "outputs": [
    {
     "name": "stdout",
     "output_type": "stream",
     "text": [
      "[ 1  2 18  4  5]\n"
     ]
    }
   ],
   "source": [
    "#changing a value of the array\n",
    "\n",
    "x[2]= 18\n",
    "print(x)"
   ]
  },
  {
   "cell_type": "code",
   "execution_count": 16,
   "metadata": {},
   "outputs": [
    {
     "name": "stdout",
     "output_type": "stream",
     "text": [
      "[[ 3  5  7]\n",
      " [ 9 11 13]\n",
      " [15 17 19]\n",
      " [21 23 25]\n",
      " [27 29 31]]\n"
     ]
    }
   ],
   "source": [
    "y = np.arange(3, 32, 2).reshape(5, 3)\n",
    "print(y)"
   ]
  },
  {
   "cell_type": "code",
   "execution_count": 17,
   "metadata": {},
   "outputs": [
    {
     "name": "stdout",
     "output_type": "stream",
     "text": [
      "[[ 3  5  7]\n",
      " [ 9 11 42]\n",
      " [15 17 19]\n",
      " [21 23 25]\n",
      " [27 29 31]]\n"
     ]
    }
   ],
   "source": [
    "y[1,2]=42\n",
    "print(y)"
   ]
  },
  {
   "cell_type": "code",
   "execution_count": 18,
   "metadata": {},
   "outputs": [
    {
     "name": "stdout",
     "output_type": "stream",
     "text": [
      "[[ 3  5  7]\n",
      " [ 9 11 42]\n",
      " [15 17 19]\n",
      " [21 20 25]\n",
      " [27 29 31]]\n"
     ]
    }
   ],
   "source": [
    "y[-2, -2]= 20\n",
    "print(y)"
   ]
  },
  {
   "cell_type": "code",
   "execution_count": 19,
   "metadata": {},
   "outputs": [
    {
     "name": "stdout",
     "output_type": "stream",
     "text": [
      "[1 2 3 4 5 6]\n",
      "[1 3 5 6]\n"
     ]
    }
   ],
   "source": [
    "#deleting element\n",
    "h = np.array([1,2,3,4,5,6])\n",
    "print(h)\n",
    "\n",
    "h = np.delete(h, [1, 3])\n",
    "print(h)"
   ]
  },
  {
   "cell_type": "code",
   "execution_count": 30,
   "metadata": {},
   "outputs": [
    {
     "name": "stdout",
     "output_type": "stream",
     "text": [
      "[[ 2  5]\n",
      " [ 8 11]\n",
      " [14 17]\n",
      " [20 23]]\n",
      "\n",
      " [[ 5]\n",
      " [11]\n",
      " [17]\n",
      " [23]]\n",
      "\n",
      " [[ 8 11]\n",
      " [14 17]\n",
      " [20 23]]\n",
      "\n",
      " [[ 2  5]\n",
      " [14 17]\n",
      " [20 23]]\n"
     ]
    }
   ],
   "source": [
    "H = np.arange(2, 26, 3).reshape(4, 2)\n",
    "print(H)\n",
    "\n",
    "w = np.delete(H, 0, axis=1)\n",
    "print(\"\\n\",w)\n",
    "\n",
    "n = np.delete(H, 0, axis=0)\n",
    "print(\"\\n\",n)\n",
    "\n",
    "p = np.delete(H, 1, axis=0)\n",
    "print(\"\\n\",p)\n"
   ]
  },
  {
   "cell_type": "code",
   "execution_count": 34,
   "metadata": {},
   "outputs": [
    {
     "name": "stdout",
     "output_type": "stream",
     "text": [
      "\n",
      " []\n"
     ]
    }
   ],
   "source": [
    "b = np.delete(H, [0, 1], axis=1)\n",
    "print(\"\\n\",b)"
   ]
  },
  {
   "cell_type": "code",
   "execution_count": 36,
   "metadata": {},
   "outputs": [
    {
     "name": "stdout",
     "output_type": "stream",
     "text": [
      "\n",
      " [[ 2  5]\n",
      " [20 23]]\n"
     ]
    }
   ],
   "source": [
    "#removes the the seconr(1) and third(2) rows in H\n",
    "f = np.delete(H, [1, 2], axis=0)\n",
    "print(\"\\n\",f)"
   ]
  },
  {
   "cell_type": "code",
   "execution_count": 37,
   "metadata": {},
   "outputs": [
    {
     "name": "stdout",
     "output_type": "stream",
     "text": [
      "[2 4 6 8]\n",
      "[2 4 6 8 3]\n"
     ]
    }
   ],
   "source": [
    "#to add values\n",
    "r = np.array([2,4,6,8])\n",
    "print(r)\n",
    "\n",
    "r = np.append(r, 3)\n",
    "print(r)"
   ]
  },
  {
   "cell_type": "code",
   "execution_count": 38,
   "metadata": {},
   "outputs": [
    {
     "name": "stdout",
     "output_type": "stream",
     "text": [
      "[2 4 6 8 3 3 9]\n"
     ]
    }
   ],
   "source": [
    "r = np.append(r, [3, 9])\n",
    "print(r)"
   ]
  },
  {
   "cell_type": "code",
   "execution_count": 39,
   "metadata": {},
   "outputs": [
    {
     "name": "stdout",
     "output_type": "stream",
     "text": [
      "[[ 2  5]\n",
      " [ 8 11]\n",
      " [14 17]\n",
      " [20 23]\n",
      " [12 14]]\n"
     ]
    }
   ],
   "source": [
    "H =np.append(H, [[12,14]], axis=0)\n",
    "print(H)"
   ]
  },
  {
   "cell_type": "code",
   "execution_count": 42,
   "metadata": {},
   "outputs": [
    {
     "name": "stdout",
     "output_type": "stream",
     "text": [
      "[[ 2  5 12]\n",
      " [ 8 11 14]\n",
      " [14 17 10]\n",
      " [20 23 11]\n",
      " [12 14 11]]\n"
     ]
    }
   ],
   "source": [
    "H =np.append(H, [[12],[14], [10], [11], [11]], axis=1)\n",
    "print(H)"
   ]
  },
  {
   "cell_type": "code",
   "execution_count": 46,
   "metadata": {},
   "outputs": [
    {
     "name": "stdout",
     "output_type": "stream",
     "text": [
      "[22 43 14 52]\n",
      "\n",
      " [22 43 24 10 14 52]\n"
     ]
    }
   ],
   "source": [
    "p =np.array([22, 43, 14, 52])\n",
    "print(p)\n",
    "\n",
    "p = np.insert(p, 2,[24, 10])\n",
    "print(\"\\n\",p)"
   ]
  },
  {
   "cell_type": "code",
   "execution_count": 56,
   "metadata": {},
   "outputs": [
    {
     "name": "stdout",
     "output_type": "stream",
     "text": [
      "[[1 5 2]\n",
      " [9 0 5]]\n"
     ]
    }
   ],
   "source": [
    "pe = np.array([[1,5,2], [9, 0, 5]])\n",
    "print(pe)"
   ]
  },
  {
   "cell_type": "code",
   "execution_count": 57,
   "metadata": {},
   "outputs": [
    {
     "name": "stdout",
     "output_type": "stream",
     "text": [
      "[[ 1  5  2]\n",
      " [67  3 -5]\n",
      " [ 9  0  5]]\n"
     ]
    }
   ],
   "source": [
    "pe = np.insert(pe, 1,[67,3,-5], axis=0)\n",
    "print(pe)"
   ]
  },
  {
   "cell_type": "code",
   "execution_count": 58,
   "metadata": {},
   "outputs": [
    {
     "name": "stdout",
     "output_type": "stream",
     "text": [
      "[[  1   5  17   2]\n",
      " [ 67   3 -30  -5]\n",
      " [  9   0  15   5]]\n"
     ]
    }
   ],
   "source": [
    "pe = np.insert(pe, 2,[17,-30,15], axis=1)\n",
    "print(pe)"
   ]
  },
  {
   "cell_type": "code",
   "execution_count": 59,
   "metadata": {},
   "outputs": [
    {
     "name": "stdout",
     "output_type": "stream",
     "text": [
      "[[  1   1   0   5   5  17   2]\n",
      " [ 67   1   0   5   3 -30  -5]\n",
      " [  9   1   0   5   0  15   5]]\n"
     ]
    }
   ],
   "source": [
    "pe = np.insert(pe, 1,[[1],[0],[5]], axis=1)\n",
    "print(pe)"
   ]
  },
  {
   "cell_type": "markdown",
   "metadata": {},
   "source": [
    "## adding two elements together"
   ]
  },
  {
   "cell_type": "code",
   "execution_count": 61,
   "metadata": {},
   "outputs": [
    {
     "name": "stdout",
     "output_type": "stream",
     "text": [
      "[2 5 6] \n",
      "\n",
      " [6 8 4]\n"
     ]
    }
   ],
   "source": [
    "yu = np.array([2, 5, 6])\n",
    "wu = np.array([6,8,4])\n",
    "\n",
    "print(yu,\"\\n\\n\", wu)"
   ]
  },
  {
   "cell_type": "code",
   "execution_count": 62,
   "metadata": {},
   "outputs": [
    {
     "name": "stdout",
     "output_type": "stream",
     "text": [
      "[[2 5 6]\n",
      " [6 8 4]]\n"
     ]
    }
   ],
   "source": [
    "zu = np.vstack((yu, wu))\n",
    "print(zu)"
   ]
  },
  {
   "cell_type": "code",
   "execution_count": 63,
   "metadata": {},
   "outputs": [
    {
     "name": "stdout",
     "output_type": "stream",
     "text": [
      "[[6 8 4]\n",
      " [2 5 6]]\n"
     ]
    }
   ],
   "source": [
    "zu = np.vstack((wu, yu))\n",
    "print(zu)"
   ]
  },
  {
   "cell_type": "code",
   "execution_count": 69,
   "metadata": {},
   "outputs": [
    {
     "name": "stdout",
     "output_type": "stream",
     "text": [
      "[[6 2]\n",
      " [8 5]\n",
      " [4 6]]\n"
     ]
    }
   ],
   "source": [
    "mu = np.hstack((wu.reshape(3,1), yu.reshape(3,1)))\n",
    "print(mu)"
   ]
  },
  {
   "cell_type": "code",
   "execution_count": null,
   "metadata": {},
   "outputs": [],
   "source": []
  }
 ],
 "metadata": {
  "kernelspec": {
   "display_name": "Python 3",
   "language": "python",
   "name": "python3"
  },
  "language_info": {
   "codemirror_mode": {
    "name": "ipython",
    "version": 3
   },
   "file_extension": ".py",
   "mimetype": "text/x-python",
   "name": "python",
   "nbconvert_exporter": "python",
   "pygments_lexer": "ipython3",
   "version": "3.7.7"
  }
 },
 "nbformat": 4,
 "nbformat_minor": 4
}
